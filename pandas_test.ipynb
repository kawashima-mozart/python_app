{
 "cells": [
  {
   "cell_type": "code",
   "execution_count": 2,
   "metadata": {},
   "outputs": [
    {
     "name": "stdout",
     "output_type": "stream",
     "text": [
      "45.0\n",
      "sato failed\n"
     ]
    }
   ],
   "source": [
    "class Student:\n",
    "\n",
    "  def __init__(self, name):\n",
    "    self.name = name\n",
    "\n",
    "  def calculate_avg(self, data):\n",
    "    sum = 0\n",
    "\n",
    "    for num in data:\n",
    "      sum += num\n",
    "\n",
    "    avg = sum/len(data)\n",
    "    return avg\n",
    "\n",
    "  def judge(self,avg):\n",
    "    if avg >= 60:\n",
    "      result = 'passed'\n",
    "    else:\n",
    "      result = 'failed'\n",
    "    return result\n",
    "\n",
    "a001 = Student('sato')\n",
    "data = [70,65,50,10,30]\n",
    "avg = a001.calculate_avg(data)\n",
    "result = a001.judge(avg)\n",
    "\n",
    "print(avg)\n",
    "print(a001.name + \" \" + result)"
   ]
  },
  {
   "cell_type": "code",
   "execution_count": 1,
   "metadata": {},
   "outputs": [],
   "source": [
    "a = 200"
   ]
  },
  {
   "cell_type": "code",
   "execution_count": null,
   "metadata": {},
   "outputs": [],
   "source": []
  }
 ],
 "metadata": {
  "kernelspec": {
   "display_name": "Python 3",
   "language": "python",
   "name": "python3"
  },
  "language_info": {
   "codemirror_mode": {
    "name": "ipython",
    "version": 3
   },
   "file_extension": ".py",
   "mimetype": "text/x-python",
   "name": "python",
   "nbconvert_exporter": "python",
   "pygments_lexer": "ipython3",
   "version": "3.7.3"
  }
 },
 "nbformat": 4,
 "nbformat_minor": 2
}
